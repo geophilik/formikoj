{
 "cells": [
  {
   "cell_type": "markdown",
   "id": "tribal-frame",
   "metadata": {},
   "source": [
    "### Import the seismic wavform modeling class from the formikoj library"
   ]
  },
  {
   "cell_type": "code",
   "execution_count": null,
   "id": "interim-terrorism",
   "metadata": {},
   "outputs": [],
   "source": [
    "from formikoj import SeismicWaveformModeler"
   ]
  },
  {
   "cell_type": "markdown",
   "id": "induced-adolescent",
   "metadata": {},
   "source": [
    "### Create an instance of the class initialized with the path to the project folder"
   ]
  },
  {
   "cell_type": "code",
   "execution_count": null,
   "id": "computational-american",
   "metadata": {},
   "outputs": [],
   "source": [
    "swm = SeismicWaveformModeler('.')"
   ]
  },
  {
   "cell_type": "markdown",
   "id": "actual-decimal",
   "metadata": {},
   "source": [
    "### Load the configuration file"
   ]
  },
  {
   "cell_type": "code",
   "execution_count": null,
   "id": "utility-spirit",
   "metadata": {},
   "outputs": [],
   "source": [
    "swm.load('config')"
   ]
  },
  {
   "cell_type": "markdown",
   "id": "emotional-flavor",
   "metadata": {},
   "source": [
    "### Create the synthetic seismic waveforms"
   ]
  },
  {
   "cell_type": "code",
   "execution_count": null,
   "id": "downtown-costs",
   "metadata": {},
   "outputs": [],
   "source": [
    "swm.create('waveforms')"
   ]
  },
  {
   "cell_type": "markdown",
   "id": "grave-hudson",
   "metadata": {},
   "source": [
    "### Compute the corresponding first break traveltimes"
   ]
  },
  {
   "cell_type": "code",
   "execution_count": null,
   "id": "devoted-prescription",
   "metadata": {},
   "outputs": [],
   "source": [
    "swm.create('waveforms')"
   ]
  }
 ],
 "metadata": {
  "kernelspec": {
   "display_name": "Python 3",
   "language": "python",
   "name": "python3"
  },
  "language_info": {
   "codemirror_mode": {
    "name": "ipython",
    "version": 3
   },
   "file_extension": ".py",
   "mimetype": "text/x-python",
   "name": "python",
   "nbconvert_exporter": "python",
   "pygments_lexer": "ipython3",
   "version": "3.7.9"
  }
 },
 "nbformat": 4,
 "nbformat_minor": 5
}
